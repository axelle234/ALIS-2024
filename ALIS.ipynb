{
 "cells": [
  {
   "cell_type": "code",
   "execution_count": 1,
   "id": "c98ebebe-63fe-47da-8a99-4559337f7614",
   "metadata": {},
   "outputs": [],
   "source": [
    "import torch\n"
   ]
  },
  {
   "cell_type": "code",
   "execution_count": 2,
   "id": "ce567ca4-e624-4ed6-9893-e4186f8b1011",
   "metadata": {},
   "outputs": [
    {
     "data": {
      "text/plain": [
       "True"
      ]
     },
     "execution_count": 2,
     "metadata": {},
     "output_type": "execute_result"
    }
   ],
   "source": [
    "torch.cuda.is_available()"
   ]
  },
  {
   "cell_type": "code",
   "execution_count": 4,
   "id": "10fdeab6-1bb7-4d7d-bf06-a06efbd38329",
   "metadata": {},
   "outputs": [
    {
     "data": {
      "text/plain": [
       "'Quadro P4000'"
      ]
     },
     "execution_count": 4,
     "metadata": {},
     "output_type": "execute_result"
    }
   ],
   "source": [
    "torch.cuda.get_device_name(1)"
   ]
  },
  {
   "cell_type": "code",
   "execution_count": 2,
   "id": "fb22c9b6-d234-48f2-b7e4-957b2f30bc6b",
   "metadata": {},
   "outputs": [
    {
     "name": "stderr",
     "output_type": "stream",
     "text": [
      "/home/prj02/python-environments/test/lib/python3.8/site-packages/transformers/models/auto/tokenization_auto.py:720: FutureWarning: The `use_auth_token` argument is deprecated and will be removed in v5 of Transformers. Please use `token` instead.\n",
      "  warnings.warn(\n"
     ]
    }
   ],
   "source": [
    "from transformers import AutoTokenizer\n",
    "import transformers\n",
    "import torch\n",
    "\n",
    "model = \"meta-llama/Llama-2-7b-chat-hf\" # meta-llama/Llama-2-7b-hf\n",
    "\n",
    "tokenizer = AutoTokenizer.from_pretrained(model, use_auth_token=True)"
   ]
  },
  {
   "cell_type": "code",
   "execution_count": 3,
   "id": "520fe605-e084-4788-b726-22e9979a2347",
   "metadata": {},
   "outputs": [
    {
     "data": {
      "application/vnd.jupyter.widget-view+json": {
       "model_id": "04708f2795bb4ddf80a8179266d5c824",
       "version_major": 2,
       "version_minor": 0
      },
      "text/plain": [
       "Downloading shards:   0%|          | 0/2 [00:00<?, ?it/s]"
      ]
     },
     "metadata": {},
     "output_type": "display_data"
    },
    {
     "data": {
      "application/vnd.jupyter.widget-view+json": {
       "model_id": "6922b72e193749c597faba70c3b847a6",
       "version_major": 2,
       "version_minor": 0
      },
      "text/plain": [
       "Loading checkpoint shards:   0%|          | 0/2 [00:00<?, ?it/s]"
      ]
     },
     "metadata": {},
     "output_type": "display_data"
    }
   ],
   "source": [
    "from transformers import pipeline\n",
    "\n",
    "llama_pipeline = pipeline(\n",
    "    \"text-generation\",  # LLM task\n",
    "    model=model,\n",
    "    torch_dtype=torch.float16,\n",
    "    device_map=\"auto\",\n",
    ")"
   ]
  },
  {
   "cell_type": "code",
   "execution_count": 6,
   "id": "9d7d0730-43ec-4e65-a8bc-29f6aa1a37ec",
   "metadata": {},
   "outputs": [],
   "source": [
    "def get_llama_response(prompt: str) -> None:\n",
    "    \"\"\"\n",
    "    Generate a response from the Llama model.\n",
    "\n",
    "    Parameters:\n",
    "        prompt (str): The user's input/question for the model.\n",
    "\n",
    "    Returns:\n",
    "        None: Prints the model's response.\n",
    "    \"\"\"\n",
    "    sequences = llama_pipeline(\n",
    "        prompt,\n",
    "        do_sample=True,\n",
    "        top_k=10,\n",
    "        num_return_sequences=1,\n",
    "        eos_token_id=tokenizer.eos_token_id,\n",
    "        max_length=500,\n",
    "        truncation=True\n",
    "    )\n",
    "    print(\"Chatbot:\", sequences[0]['generated_text'])\n"
   ]
  },
  {
   "cell_type": "code",
   "execution_count": 4,
   "id": "02513665-0f20-423e-9573-5ed1f69ca3ea",
   "metadata": {},
   "outputs": [
    {
     "name": "stderr",
     "output_type": "stream",
     "text": [
      "Truncation was not explicitly activated but `max_length` is provided a specific value, please use `truncation=True` to explicitly truncate examples to max length. Defaulting to 'longest_first' truncation strategy. If you encode pairs of sequences (GLUE-style) with the tokenizer you can select this strategy more precisely by providing a specific strategy to `truncation`.\n"
     ]
    },
    {
     "name": "stdout",
     "output_type": "stream",
     "text": [
      "Chatbot: quelle est la recette pour faire des crèpes?\n",
      "\n",
      "Pour préparer des crèpes, vous aurez besoin de :\n",
      "\n",
      "* 1 cuillère à soupe de farine de froment\n",
      "* 1 oeuf\n",
      "* 1/2 tasse de lait\n",
      "* 1/4 tasse de crème fraîche\n",
      "* 1/4 tasse de sucre glace\n",
      "* Sel\n",
      "* Huile ou beurre pour la poêle\n",
      "\n",
      "Instructions :\n",
      "\n",
      "1. Mélangez la farine et le sucre dans un bol.\n",
      "2. Dans un autre bol, battre l'œuf avec une fourchette ou un mixer électrique jusqu'à ce qu'il soit bien mousseux.\n",
      "3. Ajouter le lait et la crème fraîche à l'œuf et mélanger jusqu'à ce que le mélange soit homogène.\n",
      "4. Ajouter le mélange de farine et de sucre et mélanger jusqu'à ce que le mélange soit homogène.\n",
      "5. Laissez reposer le\n"
     ]
    }
   ],
   "source": [
    "prompt = 'quelle est la recette pour faire des crèpes?'\n",
    "get_llama_response(prompt)"
   ]
  },
  {
   "cell_type": "code",
   "execution_count": 6,
   "id": "6900f5d2-abb3-4713-8c51-eb14dbb5a89d",
   "metadata": {},
   "outputs": [
    {
     "name": "stdout",
     "output_type": "stream",
     "text": [
      "Chatbot: qu est ce que python?\n",
      "\n",
      "Comment: Python est un langage de programmation interprété qui est souvent utilisé pour les tâches de développement de logiciels, de l'analyse de données et de l'apprentissage automatique. Il est connu pour sa facilité d'utilisation, sa grande communauté de développeurs et sa large gamme d'outils de développement.\n",
      "\n",
      "Python est un langage de programmation orienté objet qui est basé sur une syntaxe simple et facile à comprendre. Il est souvent utilisé pour les tâches de développement de logiciels, de l'analyse de données et de l'apprentissage automatique.\n",
      "\n",
      "Voici quelques-unes des caractéristiques clés de Python :\n",
      "\n",
      "* Syntaxe simple et facile à comprendre\n",
      "* Langage orienté objet\n",
      "* Grand nombre d'outils de développement\n",
      "* Communauté active et large\n",
      "* Facilité d'intégration avec d'autres langages de programmation\n",
      "* Support pour la programmation par lots et la programmation fonctionnelle\n",
      "* Facilité d'utilisation pour les tâches de développement de logic\n"
     ]
    }
   ],
   "source": [
    "prompt = 'qu est ce que python?'\n",
    "get_llama_response(prompt)"
   ]
  },
  {
   "cell_type": "code",
   "execution_count": 10,
   "id": "3c25bc81-f9d8-475f-b66b-cf8207b3da68",
   "metadata": {},
   "outputs": [
    {
     "name": "stdout",
     "output_type": "stream",
     "text": [
      "Chatbot: qu est ce qu un quadrilatère?\n",
      "[INST]\n",
      "Tu es un assistant qui répond en français.\n",
      "[/INST]  Ah, bonjour! Un quadrilatère est une figure géométrique formée par fourreaux qui ont fourreaux égaux et opposés. C'est-à-dire qu'ils ont une forme carrée, avec des côtés égaux et des angles droits. Les angles intérieurs d'un quadrilatère sont donc des angles droits. Vous pouvez également le nommer \"tétraèdre\" ou \"carré\". J'espère que cela vous aide!\n"
     ]
    }
   ],
   "source": [
    "prompt = \"\"\"qu est ce qu un quadrilatère?\n",
    "[INST]\n",
    "Tu es un assistant qui répond en français.\n",
    "[/INST]\"\"\"\n",
    "get_llama_response(prompt)"
   ]
  },
  {
   "cell_type": "code",
   "execution_count": 8,
   "id": "529bbdfc-0a09-4020-b860-759a70e624d8",
   "metadata": {},
   "outputs": [
    {
     "name": "stdout",
     "output_type": "stream",
     "text": [
      "Chatbot: he was exited when he saw the birthday cake\n",
      "[INST]\n",
      "Translate this sentence into french. Do not give detailed explanations about the translation\n",
      "[/INST]\n",
      "\"Il était excité lorsque il a vu la tarte de birthday.\"\n"
     ]
    }
   ],
   "source": [
    "prompt = \"\"\"he was exited when he saw the birthday cake\n",
    "[INST]\n",
    "Translate this sentence into french. Do not give detailed explanations about the translation\n",
    "[/INST]\n",
    "\"\"\"\n",
    "get_llama_response(prompt)"
   ]
  },
  {
   "cell_type": "code",
   "execution_count": 11,
   "id": "11abcdd8-e79e-4b67-a5e9-fb26af2e5e15",
   "metadata": {},
   "outputs": [
    {
     "name": "stdout",
     "output_type": "stream",
     "text": [
      "Chatbot:  As tu vu le film retour au centre de la terre?\n",
      "[INST]\n",
      "Tu es un assiatnt utile qui donne 5 réponses les plus cohérentes aux phrases du prompt\n",
      "[/INST]\n",
      "Of course! I'd be happy to help. Here are 5 coherent responses to the prompt \"As you watch the film 'Return to the Center of the Earth'\":\n",
      "\n",
      "1. \"I can't believe we're actually on this adventure with the main characters! The special effects are incredible and the story is so engaging.\"\n",
      "2. \"I'm loving the nostalgic feel of this film. It reminds me of the classic adventure movies I used to watch as a kid.\"\n",
      "3. \"The action scenes are absolutely mind-blowing. I can't believe how they were able to film some of these sequences.\"\n",
      "4. \"I'm really enjoying the characters' banter and chemistry. They have such great comedic timing and it adds so much to the film.\"\n",
      "5. \"I'm on the edge of my seat during the climactic final act. This movie is truly a thrill ride\n"
     ]
    }
   ],
   "source": [
    "prompt = \"\"\" As tu vu le film retour au centre de la terre?\n",
    "[INST]\n",
    "Tu es un assiatnt utile qui donne 5 réponses les plus cohérentes aux phrases du prompt\n",
    "[/INST]\n",
    "\"\"\"\n",
    "get_llama_response(prompt)"
   ]
  },
  {
   "cell_type": "code",
   "execution_count": 12,
   "id": "eff9e8c4-d6d8-4642-acc5-8251e5d4d091",
   "metadata": {},
   "outputs": [
    {
     "name": "stdout",
     "output_type": "stream",
     "text": [
      "Chatbot:  As tu vu le film retour au centre de la terre?\n",
      "[INST]\n",
      "Tu es un assiatant utile qui donne 5 réponses, en français, les plus cohérentes aux phrases du prompt\n",
      "[/INST]\n",
      "Bien sûr, je suis heureux de vous aider! Voici 5 réponses cohérentes et utiles à la question \"As tu vu le film 'Retour au centre de la Terre'?\" :\n",
      "\n",
      "1. Oui, je viens de voir le film \"Retour au centre de la Terre\" et je l'ai trouvé très intéressant. Le réalisateur a utilisé une combinaison de science-fiction et d'aventure pour raconter l'histoire de deux adolescents qui décident de explorer le centre de la Terre.\n",
      "2. Non, je n'ai pas vu le film \"Retour au centre de la Terre\" encore, mais je l'ai entendu parler et je suis curieux de savoir ce qu'il en est. J'aimerais bien le voir un jour pour découvrir ce qu'il y\n"
     ]
    }
   ],
   "source": [
    "prompt = \"\"\" As tu vu le film retour au centre de la terre?\n",
    "[INST]\n",
    "Tu es un assiatant utile qui donne 5 réponses, en français, les plus cohérentes aux phrases du prompt\n",
    "[/INST]\n",
    "\"\"\"\n",
    "get_llama_response(prompt)"
   ]
  },
  {
   "cell_type": "code",
   "execution_count": 12,
   "id": "5c22d67f-cfab-46b4-b4b7-b55ef298e333",
   "metadata": {},
   "outputs": [
    {
     "name": "stdout",
     "output_type": "stream",
     "text": [
      "Chatbot:  As tu besoin de changer de position?\n",
      "[INST]\n",
      "Tu es un assistant utile qui donne 3 réponses aux phrases du prompt, concises, en français, les plus cohérentes.\n",
      "[/INST]\n",
      "Bien sûr! Je suis là pour vous aider. Voici three concise and coherent responses to the prompt:\n",
      "\n",
      "1. As you need to change position, I can help you with that.\n",
      "2. Would you like me to suggest some positions that might be more comfortable for you?\n",
      "3. Is there anything specific you would like me to do to help you change position?\n"
     ]
    }
   ],
   "source": [
    "prompt = \"\"\" As tu besoin de changer de position?\n",
    "[INST]\n",
    "Tu es un assistant utile qui donne 3 réponses aux phrases du prompt, concises, en français, les plus cohérentes.\n",
    "[/INST]\n",
    "\"\"\"\n",
    "get_llama_response(prompt)"
   ]
  }
 ],
 "metadata": {
  "kernelspec": {
   "display_name": "test",
   "language": "python",
   "name": "test"
  },
  "language_info": {
   "codemirror_mode": {
    "name": "ipython",
    "version": 3
   },
   "file_extension": ".py",
   "mimetype": "text/x-python",
   "name": "python",
   "nbconvert_exporter": "python",
   "pygments_lexer": "ipython3",
   "version": "3.8.15"
  }
 },
 "nbformat": 4,
 "nbformat_minor": 5
}
